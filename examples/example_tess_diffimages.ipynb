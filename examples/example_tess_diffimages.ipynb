{
 "cells": [
  {
   "cell_type": "markdown",
   "metadata": {},
   "source": [
    "This tutorial will demonstrate how to obtain difference images for a planet candidate in TESS data."
   ]
  },
  {
   "cell_type": "code",
   "execution_count": 1,
   "metadata": {},
   "outputs": [],
   "source": [
    "import matplotlib.pyplot as plt\n",
    "import sys\n",
    "sys.path.append('../code')"
   ]
  },
  {
   "cell_type": "markdown",
   "metadata": {},
   "source": [
    "Provide some basic information on the star and its planet. In this example, we'll look at TIC-25375553, the host star of confirmed planet TOI-143.01 (WASP-111b). There's only one planet in this example, but for multi-planet systems you should list all planets in the same format."
   ]
  },
  {
   "cell_type": "code",
   "execution_count": 2,
   "metadata": {},
   "outputs": [],
   "source": [
    "star = {}\n",
    "star['id'] = 25375553\n",
    "star['raDegrees'] = 328.76768\n",
    "star['decDegrees'] = -22.61258\n",
    "\n",
    "planet0 = {}\n",
    "planet0['planetID'] = \"TOI_\" + str(143.01)\n",
    "planet0['period'] = 2.31097\n",
    "planet0['epoch'] = 1325.58249\n",
    "planet0['durationHours'] = 3.129"
   ]
  },
  {
   "cell_type": "markdown",
   "metadata": {},
   "source": [
    "Since TESS works in distinct \"sectors\" of data (~27 days), decide which sector you would like to use for difference images. TIC-25375553 was observed in both Sectors 1 and 28, but if you aren't sure, you can check with tess-point. For example:"
   ]
  },
  {
   "cell_type": "code",
   "execution_count": 3,
   "metadata": {},
   "outputs": [
    {
     "name": "stdout",
     "output_type": "stream",
     "text": [
      "[ 1 28 68] [1 1 1]\n"
     ]
    }
   ],
   "source": [
    "from tess_stars2px import tess_stars2px_function_entry\n",
    "\n",
    "outID, outEclipLong, outEclipLat, outSec, outCam, outCcd,\\\n",
    "    outColPix, outRowPix, scinfo = tess_stars2px_function_entry(star['id'], star['raDegrees'], star['decDegrees'])\n",
    "\n",
    "print(outSec, outCam)"
   ]
  },
  {
   "cell_type": "markdown",
   "metadata": {},
   "source": [
    "Let's pick the most recently observed sector, Sector 28. This will take about a minute to run, as it downloads the FFI cutout using TESScut, identifies the in-transit datapoints, and calculates the difference image. "
   ]
  },
  {
   "cell_type": "code",
   "execution_count": null,
   "metadata": {
    "scrolled": false
   },
   "outputs": [
    {
     "name": "stdout",
     "output_type": "stream",
     "text": [
      "curl \"https://mast.stsci.edu/tesscut/api/v0.1/astrocut?ra=328.76768&dec=-22.61258&y=21&x=21&sector=28\" --output ./tic25375553.zip\n"
     ]
    },
    {
     "name": "stderr",
     "output_type": "stream",
     "text": [
      "  % Total    % Received % Xferd  Average Speed   Time    Time     Time  Current\n",
      "                                 Dload  Upload   Total   Spent    Left  Speed\n",
      "100  4096    0  4096    0     0   1380      0 --:--:--  0:00:02 --:--:--  1380"
     ]
    }
   ],
   "source": [
    "import tessDiffImage\n",
    "\n",
    "star['sector'] = 28\n",
    "star['cam'] = 1\n",
    "star['planetData'] = [planet0]\n",
    "# If you have quality flags for each cadence in the sector in a file, name the file here; otherwise None\n",
    "star['qualityFiles'] = None\n",
    "# If you have quality flags for each cadence in the sector in an array, put the array here; otherwise None\n",
    "star['qualityFlags'] = None\n",
    "\n",
    "tdi = tessDiffImage.tessDiffImage(star, spiceFileLocation = \"..\")\n",
    "\n",
    "tdi.make_ffi_difference_image(thisPlanet=0)"
   ]
  },
  {
   "cell_type": "code",
   "execution_count": null,
   "metadata": {},
   "outputs": [],
   "source": [
    "star"
   ]
  },
  {
   "cell_type": "markdown",
   "metadata": {},
   "source": [
    "The image data was saved in the newly created tic25375553 folder. You'll also find difference image plots saved as pdfs using default the default plotting, and a list of all nearby TICs. You can always load the data back in if you want to manipulate the data on your own:"
   ]
  },
  {
   "cell_type": "code",
   "execution_count": null,
   "metadata": {},
   "outputs": [],
   "source": [
    "import pickle\n",
    "\n",
    "fname = 'tic25375553/imageData_TOI_143.01_sector28.pickle'\n",
    "with open(fname, 'rb') as f:\n",
    "    imageData = pickle.load(f)"
   ]
  },
  {
   "cell_type": "code",
   "execution_count": null,
   "metadata": {},
   "outputs": [],
   "source": [
    "diffImageData = imageData[0]\n",
    "catalogData = imageData[1]\n",
    "\n",
    "fig, ax = plt.subplots(2,2,figsize=(10,10))\n",
    "tdi.draw_pix_catalog(diffImageData['diffImage'], catalogData, catalogData[\"extent\"], ax=ax[0,0], fs=14, ss=60, filterStars=True, dMagThreshold=4, annotate=True)\n",
    "tdi.draw_pix_catalog(diffImageData['diffImage'], catalogData, catalogData[\"extentClose\"], ax=ax[0,1], fs=14, ss=60, filterStars=True, dMagThreshold=4, annotate=True, close=True)\n",
    "tdi.draw_pix_catalog(diffImageData['meanOutTransit'], catalogData, catalogData[\"extent\"], ax=ax[1,0], fs=14, ss=60, filterStars=True, dMagThreshold=4, annotate=True)\n",
    "tdi.draw_pix_catalog(diffImageData['meanOutTransit'], catalogData, catalogData[\"extentClose\"], ax=ax[1,1], fs=14, ss=60, filterStars=True, dMagThreshold=4, annotate=True, close=True)\n",
    "ax[0,0].set_title('Difference Image')\n",
    "ax[0,1].set_title('Difference Image (Close-up)')\n",
    "ax[1,0].set_title('Direct Image')\n",
    "ax[1,1].set_title('Direct Image (Close-up)')"
   ]
  },
  {
   "cell_type": "code",
   "execution_count": null,
   "metadata": {},
   "outputs": [],
   "source": []
  }
 ],
 "metadata": {
  "kernelspec": {
   "display_name": "Python 3 (ipykernel)",
   "language": "python",
   "name": "python3"
  },
  "language_info": {
   "codemirror_mode": {
    "name": "ipython",
    "version": 3
   },
   "file_extension": ".py",
   "mimetype": "text/x-python",
   "name": "python",
   "nbconvert_exporter": "python",
   "pygments_lexer": "ipython3",
   "version": "3.9.7"
  }
 },
 "nbformat": 4,
 "nbformat_minor": 4
}
