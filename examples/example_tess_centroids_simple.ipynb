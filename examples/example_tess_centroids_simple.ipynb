{
 "cells": [
  {
   "cell_type": "code",
   "execution_count": 1,
   "id": "428ec701",
   "metadata": {},
   "outputs": [],
   "source": [
    "import matplotlib.pyplot as plt\n",
    "import sys\n",
    "import pickle\n",
    "import numpy as np\n",
    "\n",
    "sys.path.append('../code')\n",
    "import tessDiffImage\n",
    "import transitCentroids\n",
    "import tess_stars2px\n",
    "import tessprfmodel as tprf"
   ]
  },
  {
   "cell_type": "code",
   "execution_count": 2,
   "id": "503f0d38",
   "metadata": {},
   "outputs": [],
   "source": [
    "def quick_flux_centroid(arr, extent, constrain=True):\n",
    "    xpix = np.linspace(extent[0], extent[1]-1, arr.shape[1])\n",
    "    ypix = np.linspace(extent[2], extent[3]-1, arr.shape[0])\n",
    "    X, Y = np.meshgrid(xpix, ypix)\n",
    "    normArr = arr.copy() - np.median(arr.ravel())\n",
    "    sum_f = np.sum(normArr.ravel())\n",
    "    sum_x = np.sum((X*normArr).ravel())\n",
    "    sum_y = np.sum((Y*normArr).ravel())\n",
    "    \n",
    "    xc = sum_x/sum_f\n",
    "    yc = sum_y/sum_f\n",
    "    \n",
    "    if constrain:\n",
    "        # if the centroid is outside the extent then return the center of the image\n",
    "        if (xc < extent[0]) | (xc > extent[1]):\n",
    "            xc = np.mean(extent[0:2])\n",
    "\n",
    "        if (yc < extent[2]) | (yc > extent[3]):\n",
    "            yc = np.mean(extent[2:])\n",
    "\n",
    "    return [xc, yc]\n"
   ]
  },
  {
   "cell_type": "markdown",
   "id": "fd889e19",
   "metadata": {},
   "source": [
    "We use the same exmaple as the notebook example_diffimages.  First we make and display the difference image, exactly like in that notebook.  See example_diffimages for details of what's happening."
   ]
  },
  {
   "cell_type": "code",
   "execution_count": 3,
   "id": "b2cae88b",
   "metadata": {},
   "outputs": [],
   "source": [
    "star = {}\n",
    "star['id'] = 25375553\n",
    "star['raDegrees'] = 328.76768\n",
    "star['decDegrees'] = -22.61258\n",
    "\n",
    "planet0 = {}\n",
    "planet0['TOI'] = 143.01\n",
    "planet0['period'] = 2.31097\n",
    "planet0['epoch'] = 1325.58249\n",
    "planet0['durationHours'] = 3.129"
   ]
  },
  {
   "cell_type": "code",
   "execution_count": 4,
   "id": "8e8509a9",
   "metadata": {},
   "outputs": [
    {
     "name": "stdout",
     "output_type": "stream",
     "text": [
      "[ 1 28 68] [1 1 1] [3 3 3]\n"
     ]
    }
   ],
   "source": [
    "from tess_stars2px import tess_stars2px_function_entry\n",
    "\n",
    "outID, outEclipLong, outEclipLat, outSec, outCam, outCcd,\\\n",
    "    outColPix, outRowPix, scinfo = tess_stars2px.tess_stars2px_function_entry(star['id'], \n",
    "                                                                              star['raDegrees'], \n",
    "                                                                              star['decDegrees'])\n",
    "\n",
    "print(outSec, outCam, outCcd)"
   ]
  },
  {
   "cell_type": "markdown",
   "id": "727c8a94",
   "metadata": {},
   "source": [
    "We will get make difference images for all possible sectors, and need to record the ccd.  "
   ]
  },
  {
   "cell_type": "code",
   "execution_count": 6,
   "id": "b893c2ae",
   "metadata": {},
   "outputs": [
    {
     "name": "stdout",
     "output_type": "stream",
     "text": [
      "curl \"https://mast.stsci.edu/tesscut/api/v0.1/astrocut?ra=328.76768&dec=-22.61258&y=21&x=21\" --output ./tic25375553.zip\n"
     ]
    },
    {
     "name": "stderr",
     "output_type": "stream",
     "text": [
      "  % Total    % Received % Xferd  Average Speed   Time    Time     Time  Current\n",
      "                                 Dload  Upload   Total   Spent    Left  Speed\n",
      "100 40.2M    0 40.2M    0     0  7434k      0 --:--:--  0:00:05 --:--:-- 9931k\n"
     ]
    },
    {
     "name": "stdout",
     "output_type": "stream",
     "text": [
      "Archive:  ./tic25375553.zip\n",
      " extracting: ./tic25375553/tess-s0001-1-3_328.767680_-22.612580_21x21_astrocut.fits  \n",
      " extracting: ./tic25375553/tess-s0028-1-3_328.767680_-22.612580_21x21_astrocut.fits  \n",
      "['./tic25375553/tess-s0001-1-3_328.767680_-22.612580_21x21_astrocut.fits', './tic25375553/tess-s0028-1-3_328.767680_-22.612580_21x21_astrocut.fits']\n",
      "./tic25375553/tess-s0001-1-3_328.767680_-22.612580_21x21_astrocut.fits\n"
     ]
    },
    {
     "name": "stderr",
     "output_type": "stream",
     "text": [
      "/opt/anaconda3/lib/python3.9/site-packages/erfa/core.py:4613: RuntimeWarning: invalid value encountered in ld\n",
      "  p1 = ufunc.ld(bm, p, q, e, em, dlim)\n",
      "/opt/anaconda3/lib/python3.9/site-packages/erfa/core.py:19005: RuntimeWarning: invalid value encountered in anp\n",
      "  c_retval = ufunc.anp(a)\n",
      "/Volumes/meow/steve/work/tess/transit-diffImage/examples/../code/tessDiffImage.py:437: RuntimeWarning: Mean of empty slice\n",
      "  meanInTransit = np.nanmean(pixelData[\"flux\"][inTransitIndices,::-1,:], axis=0)\n",
      "/Volumes/meow/steve/work/tess/transit-diffImage/examples/../code/tessDiffImage.py:438: RuntimeWarning: invalid value encountered in true_divide\n",
      "  meanInTransitSigma = np.sqrt(np.sum(pixelData[\"fluxErr\"][inTransitIndices,::-1,:]**2, axis=0)/len(inTransitIndices))\n",
      "/Volumes/meow/steve/work/tess/transit-diffImage/examples/../code/tessDiffImage.py:439: RuntimeWarning: Mean of empty slice\n",
      "  meanOutTransit = np.nanmean(pixelData[\"flux\"][outTransitIndices,::-1,:], axis=0)\n",
      "/Volumes/meow/steve/work/tess/transit-diffImage/examples/../code/tessDiffImage.py:440: RuntimeWarning: invalid value encountered in true_divide\n",
      "  meanOutTransitSigma = np.sqrt(np.sum(pixelData[\"fluxErr\"][outTransitIndices,::-1,:]**2, axis=0)/len(outTransitIndices))\n"
     ]
    },
    {
     "name": "stdout",
     "output_type": "stream",
     "text": [
      "making difference image for sector 1\n",
      "./tic25375553/tess-s0028-1-3_328.767680_-22.612580_21x21_astrocut.fits\n",
      "making difference image for sector 28\n"
     ]
    }
   ],
   "source": [
    "star['sector'] = None\n",
    "star['cam'] = None\n",
    "star['ccd'] = None\n",
    "star['planetData'] = [planet0]\n",
    "# If you have quality flags for each cadence in the sector in a file, name the file here; otherwise None\n",
    "star['qualityFiles'] = None\n",
    "# If you have quality flags for each cadence in the sector in an array, put the array here; otherwise None\n",
    "star['qualityFlags'] = None\n",
    "\n",
    "tdi = tessDiffImage.tessDiffImage(star, spiceFileLocation = \"..\")\n",
    "\n",
    "tdi.make_ffi_difference_image(thisPlanet=0)"
   ]
  },
  {
   "cell_type": "markdown",
   "id": "2db2deb4",
   "metadata": {},
   "source": [
    "For various reasons not all sectors will get difference images, so see what sectors actually have difference images."
   ]
  },
  {
   "cell_type": "code",
   "execution_count": 7,
   "id": "5fcba4c9",
   "metadata": {},
   "outputs": [
    {
     "data": {
      "text/plain": [
       "[1, 28]"
      ]
     },
     "execution_count": 7,
     "metadata": {},
     "output_type": "execute_result"
    }
   ],
   "source": [
    "tdi.sectorList"
   ]
  },
  {
   "cell_type": "code",
   "execution_count": 8,
   "id": "56315052",
   "metadata": {},
   "outputs": [],
   "source": [
    "sectorIndex = 1 # make sure outSec[sectorIndex] is in tdi.sectorList\n",
    "if outSec[sectorIndex] not in tdi.sectorList:\n",
    "    raise ValueError(str(sectorIndex) + \" is not a valid sector index.\")\n",
    "\n",
    "fname = 'tic25375553/imageData_TOI_143.01_sector' + str(outSec[sectorIndex]) + '.pickle'\n",
    "with open(fname, 'rb') as f:\n",
    "    imageData = pickle.load(f)"
   ]
  },
  {
   "cell_type": "code",
   "execution_count": 9,
   "id": "9c75fea1",
   "metadata": {},
   "outputs": [
    {
     "data": {
      "text/plain": [
       "Text(0.5, 1.0, 'Direct Image (Close-up)')"
      ]
     },
     "execution_count": 9,
     "metadata": {},
     "output_type": "execute_result"
    },
    {
     "data": {
      "image/png": "[encoded data removed]",
      "text/plain": [
       "<Figure size 720x720 with 8 Axes>"
      ]
     },
     "metadata": {
      "needs_background": "light"
     },
     "output_type": "display_data"
    }
   ],
   "source": [
    "diffImageData = imageData[0]\n",
    "catalogData = imageData[1]\n",
    "\n",
    "fig, ax = plt.subplots(2,2,figsize=(10,10))\n",
    "tdi.draw_pix_catalog(diffImageData['diffImage'], catalogData, catalogData[\"extent\"], ax=ax[0,0], fs=14, ss=60, filterStars=True, dMagThreshold=4, annotate=True)\n",
    "tdi.draw_pix_catalog(diffImageData['diffImage'], catalogData, catalogData[\"extentClose\"], ax=ax[0,1], fs=14, ss=60, filterStars=True, dMagThreshold=4, annotate=True, close=True)\n",
    "tdi.draw_pix_catalog(diffImageData['meanOutTransit'], catalogData, catalogData[\"extent\"], ax=ax[1,0], fs=14, ss=60, filterStars=True, dMagThreshold=4, annotate=True)\n",
    "tdi.draw_pix_catalog(diffImageData['meanOutTransit'], catalogData, catalogData[\"extentClose\"], ax=ax[1,1], fs=14, ss=60, filterStars=True, dMagThreshold=4, annotate=True, close=True)\n",
    "ax[0,0].set_title('Difference Image')\n",
    "ax[0,1].set_title('Difference Image (Close-up)')\n",
    "ax[1,0].set_title('Direct Image')\n",
    "ax[1,1].set_title('Direct Image (Close-up)')"
   ]
  },
  {
   "cell_type": "markdown",
   "id": "5e6fa741",
   "metadata": {},
   "source": [
    "Now we perform a centroid analysis to find the position of the star that is making the difference image.  We use the principle that, if all the change in the pixel flux is due to changes in one star such as a transit, then the difference image contain that star's image.  The star's image is determined by the TESS Pixel Response Function (PRF).\n",
    "\n",
    "We will use PRF centroiding, which finds the position of the TESS PRF that results in pixels that are the best match for the difference image. That pixel position should correspond to the position of the star causing the change.\n",
    "\n",
    "We perform PRF centroiding using a nonliner minimization of the sum of the squares of the difference between a synthetic image created using the PRF and the observed difference image.  Our synthetic image is \n",
    "$$ I = a*PRF(x,y) + o. $$  We find the set $(x, y, a, o)$ so that the image $I$ best matches the difference image in a least squares sense.\n",
    "\n",
    "To seed the minimzation, we compute a flux-weighted centroid.  We do not expect this centroid to be very accurate because of residual pixel values in the difference image.\n",
    "\n",
    "We do our centroiding in a 7x7 closeup of the diference imaging, rather than the default 5x5 closeup.  This helps us get a good seed position from the flux-weighted centroid.  So first we extract the central 7x7 pixels, and define the appropriate extent."
   ]
  },
  {
   "cell_type": "markdown",
   "id": "cd223d8e",
   "metadata": {},
   "source": [
    "Create the TESS PRF object."
   ]
  },
  {
   "cell_type": "code",
   "execution_count": 10,
   "id": "a53d4a13",
   "metadata": {},
   "outputs": [],
   "source": [
    "prf = tprf.SimpleTessPRF(shape=diffImageData[\"diffImage\"].shape,\n",
    "                                    sector = outSec[sectorIndex],\n",
    "                                    camera = outCam[sectorIndex],\n",
    "                                    ccd = outCcd[sectorIndex],\n",
    "                                    column=catalogData[\"extent\"][0],\n",
    "                                    row=catalogData[\"extent\"][2],\n",
    "#                                     prfFileLocation = \"../../tessPrfFiles/\"\n",
    "                        )"
   ]
  },
  {
   "cell_type": "markdown",
   "id": "009003c4",
   "metadata": {},
   "source": [
    "Compute the centroid"
   ]
  },
  {
   "cell_type": "code",
   "execution_count": 12,
   "id": "67726f1f",
   "metadata": {},
   "outputs": [],
   "source": [
    "fitVector, prfFitQuality, fluxCentroid, closeDiffImage, closeExtent = transitCentroids.tess_PRF_centroid(prf, \n",
    "                                                           catalogData[\"extent\"], \n",
    "                                                           diffImageData[\"diffImage\"], \n",
    "                                                           catalogData)"
   ]
  },
  {
   "cell_type": "code",
   "execution_count": 13,
   "id": "f3197354",
   "metadata": {},
   "outputs": [
    {
     "name": "stdout",
     "output_type": "stream",
     "text": [
      "PRF fit quality = 0.9961389189202936\n"
     ]
    }
   ],
   "source": [
    "print(\"PRF fit quality = \" + str(prfFitQuality))"
   ]
  },
  {
   "cell_type": "markdown",
   "id": "c2f9e01b",
   "metadata": {},
   "source": [
    "Show the flux-weighted and PRF-fit centroids on the difference image, along with the position of the target star (the first star in the catalog data)."
   ]
  },
  {
   "cell_type": "code",
   "execution_count": 14,
   "id": "2021a7cb",
   "metadata": {},
   "outputs": [
    {
     "data": {
      "text/plain": [
       "<matplotlib.legend.Legend at 0x7ff769f02730>"
      ]
     },
     "execution_count": 14,
     "metadata": {},
     "output_type": "execute_result"
    },
    {
     "data": {
      "image/png": "[encoded data removed]",
      "text/plain": [
       "<Figure size 432x288 with 2 Axes>"
      ]
     },
     "metadata": {
      "needs_background": "light"
     },
     "output_type": "display_data"
    }
   ],
   "source": [
    "plt.imshow(closeDiffImage, cmap='jet', origin='lower', extent=closeExtent)\n",
    "plt.plot(fluxCentroid[0], fluxCentroid[1], 'w+', label = \"flux-weighted centroid\", zorder=200)\n",
    "plt.plot(fitVector[0], fitVector[1], 'ws', label = \"PRF-fit centroid\", zorder=200)\n",
    "plt.axvline(catalogData[\"targetColPix\"][0], c='y', label = \"target star\")\n",
    "plt.axhline(catalogData[\"targetRowPix\"][0], c='y')\n",
    "plt.colorbar()\n",
    "plt.legend()\n"
   ]
  },
  {
   "cell_type": "markdown",
   "id": "3d2fc634",
   "metadata": {},
   "source": [
    "Make a full-size synthetic difference image to compare with the original difference image."
   ]
  },
  {
   "cell_type": "code",
   "execution_count": 16,
   "id": "0cf05f41",
   "metadata": {},
   "outputs": [
    {
     "data": {
      "image/png": "[encoded data removed]",
      "text/plain": [
       "<Figure size 1080x360 with 4 Axes>"
      ]
     },
     "metadata": {
      "needs_background": "light"
     },
     "output_type": "display_data"
    }
   ],
   "source": [
    "plt.figure(figsize=(15,5))\n",
    "plt.subplot(1, 2, 1)\n",
    "plt.imshow(transitCentroids.render_prf(prf, fitVector, catalogData), \n",
    "           cmap='jet', origin='lower', extent=catalogData[\"extent\"])\n",
    "plt.colorbar()\n",
    "plt.subplot(1, 2, 2)\n",
    "\n",
    "plt.imshow(diffImageData[\"diffImage\"], \n",
    "           cmap='jet', origin='lower', extent=catalogData[\"extent\"])\n",
    "plt.colorbar();\n"
   ]
  },
  {
   "cell_type": "code",
   "execution_count": 17,
   "id": "f1b02f40",
   "metadata": {},
   "outputs": [
    {
     "name": "stdout",
     "output_type": "stream",
     "text": [
      "[328.77341735919214, -22.610905191389758]\n",
      "[328.7677583440195, -22.612605961532143]\n",
      "distance = 19.777931899851527 arcsec\n"
     ]
    }
   ],
   "source": [
    "centroidRa, centroidDec, scinfo = tess_stars2px.tess_stars2px_reverse_function_entry(outSec[sectorIndex], \n",
    "                                                   outCam[sectorIndex], outCcd[sectorIndex], \n",
    "                                                   fitVector[0], fitVector[1], scInfo=scinfo)\n",
    "print([centroidRa, centroidDec])\n",
    "print([catalogData['correctedRa'][0], catalogData['correctedDec'][0]])\n",
    "dRa = centroidRa - catalogData['correctedRa'][0]\n",
    "dDec = centroidDec - catalogData['correctedDec'][0]\n",
    "print(\"distance = \" + str(3600*np.sqrt((dRa*np.cos(catalogData['correctedDec'][0]*np.pi/180))**2 + dDec**2)) + \" arcsec\")"
   ]
  },
  {
   "cell_type": "code",
   "execution_count": 18,
   "id": "cb0275be",
   "metadata": {},
   "outputs": [
    {
     "name": "stdout",
     "output_type": "stream",
     "text": [
      "[328.77341735919214, -22.610905191389758]\n",
      "[328.76768, -22.61258]\n",
      "distance = 19.99728684188464 arcsec\n"
     ]
    }
   ],
   "source": [
    "print([centroidRa, centroidDec])\n",
    "print([star[\"raDegrees\"], star[\"decDegrees\"]])\n",
    "dRa = centroidRa - star[\"raDegrees\"]\n",
    "dDec = centroidDec - star[\"decDegrees\"]\n",
    "print(\"distance = \" + str(3600*np.sqrt((dRa*np.cos(star[\"decDegrees\"]*np.pi/180))**2 + dDec**2)) + \" arcsec\")"
   ]
  },
  {
   "cell_type": "code",
   "execution_count": 19,
   "id": "1bd2b765",
   "metadata": {},
   "outputs": [
    {
     "name": "stdout",
     "output_type": "stream",
     "text": [
      "[328.7733810856819, -22.61062276593797]\n",
      "[328.76768, -22.61258]\n",
      "distance = 20.213938463564894 arcsec\n"
     ]
    }
   ],
   "source": [
    "outID, outEclipLong, outEclipLat, outSec, outCam, outCcd,\\\n",
    "    outColPix, outRowPix, scinfo = tess_stars2px.tess_stars2px_function_entry(star['id'], \n",
    "                                                                              star['raDegrees'], \n",
    "                                                                              star['decDegrees'], aberrate=True)\n",
    "pixRa, pixDec, scinfo = tess_stars2px.tess_stars2px_reverse_function_entry(outSec[sectorIndex], \n",
    "                                                   outCam[sectorIndex], outCcd[sectorIndex], \n",
    "                                                   outColPix[sectorIndex], outRowPix[sectorIndex], scInfo=scinfo)\n",
    "print([pixRa, pixDec])\n",
    "print([star[\"raDegrees\"], star[\"decDegrees\"]])\n",
    "dRa = pixRa - star[\"raDegrees\"]\n",
    "dDec = pixDec - star[\"decDegrees\"]\n",
    "print(\"distance = \" + str(3600*np.sqrt((dRa*np.cos(star[\"decDegrees\"]*np.pi/180))**2 + dDec**2)) + \" arcsec\")"
   ]
  },
  {
   "cell_type": "code",
   "execution_count": null,
   "id": "2434e9c7",
   "metadata": {},
   "outputs": [],
   "source": []
  }
 ],
 "metadata": {
  "kernelspec": {
   "display_name": "Python 3 (ipykernel)",
   "language": "python",
   "name": "python3"
  },
  "language_info": {
   "codemirror_mode": {
    "name": "ipython",
    "version": 3
   },
   "file_extension": ".py",
   "mimetype": "text/x-python",
   "name": "python",
   "nbconvert_exporter": "python",
   "pygments_lexer": "ipython3",
   "version": "3.9.7"
  }
 },
 "nbformat": 4,
 "nbformat_minor": 5
}
